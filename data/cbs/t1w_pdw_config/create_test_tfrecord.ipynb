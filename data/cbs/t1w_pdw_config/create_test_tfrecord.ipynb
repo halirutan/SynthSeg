{
 "cells": [
  {
   "cell_type": "code",
   "execution_count": null,
   "id": "c1136406-ff8d-41e1-8572-4f366e3805d9",
   "metadata": {},
   "outputs": [],
   "source": [
    "import numpy as np\n",
    "import nibabel as nib\n",
    "import matplotlib.pyplot as plt\n",
    "import yaml\n",
    "from pathlib import Path\n",
    "from ext.lab2im import utils\n",
    "from SynthSeg.brain_generator import read_tfrecords\n",
    "import tensorflow as tf"
   ]
  },
  {
   "cell_type": "markdown",
   "id": "6007adee-8b2d-4b07-b77a-64381276d017",
   "metadata": {},
   "source": [
    "## Peek into data\n",
    "\n",
    "Data downloaded from https://datashare.mpcdf.mpg.de/f/348054516"
   ]
  },
  {
   "cell_type": "code",
   "execution_count": null,
   "id": "f4d69cd3-8cdf-4fb4-9944-cd4489a9e3be",
   "metadata": {},
   "outputs": [],
   "source": [
    "image_nii = nib.load(\"t1w_pdw_validation_pair/t1_pdw_scaled_256.nii\")"
   ]
  },
  {
   "cell_type": "code",
   "execution_count": null,
   "id": "9677831e-d4d9-435c-882d-cbda46de3151",
   "metadata": {},
   "outputs": [],
   "source": [
    "image = img_nii.get_fdata()\n",
    "image.shape"
   ]
  },
  {
   "cell_type": "code",
   "execution_count": null,
   "id": "705ea7a2-4ded-4e69-a206-e5b483d7fda8",
   "metadata": {},
   "outputs": [],
   "source": [
    "plt.imshow(image[100,..., 1])"
   ]
  },
  {
   "cell_type": "code",
   "execution_count": null,
   "id": "971ff5e0-9d40-454c-8d63-fe11eb865151",
   "metadata": {},
   "outputs": [],
   "source": [
    "labels_nii = nib.load(\"t1w_pdw_validation_pair/label_256.nii\")"
   ]
  },
  {
   "cell_type": "code",
   "execution_count": null,
   "id": "56974e5c-0f5c-46b2-be1a-420b39f9c934",
   "metadata": {},
   "outputs": [],
   "source": [
    "plt.imshow(image[100,..., 0], alpha=1.0)\n",
    "plt.imshow(labels[100, ...], alpha=0.5)"
   ]
  },
  {
   "cell_type": "markdown",
   "id": "3d4caf67-8b82-490d-8ea2-b19acec4aa5b",
   "metadata": {},
   "source": [
    "## Map labels"
   ]
  },
  {
   "cell_type": "code",
   "execution_count": null,
   "id": "b237ef54-fd70-43b4-b41a-ee554ac74cbf",
   "metadata": {},
   "outputs": [],
   "source": [
    "class LabelMapping:\n",
    "    def __init__(self, cfg_path):\n",
    "        cfg_path = Path(cfg_path)\n",
    "        with cfg_path.open() as file:\n",
    "            cfg = yaml.safe_load(file)\n",
    "        output_labels = cfg[\"output_labels\"]\n",
    "        self._mapping = utils.get_mapping_lut(np.unique(output_labels))\n",
    "\n",
    "    def lab2idx(self, label: int) -> int:\n",
    "        try:\n",
    "            return self._mapping[label]\n",
    "        except IndexError:\n",
    "            return 0\n",
    "\n",
    "    def idx2lab(self, idx: int):\n",
    "        return np.nonzero(self._mapping == idx)[0][0]"
   ]
  },
  {
   "cell_type": "code",
   "execution_count": null,
   "id": "b7d3dc32-0b3a-4132-b1f5-1497d5531001",
   "metadata": {},
   "outputs": [],
   "source": [
    "label_mapping = LabelMapping(\"./generator.yml\")"
   ]
  },
  {
   "cell_type": "code",
   "execution_count": null,
   "id": "425e8aba-3fb7-4742-9632-a0c00f847cce",
   "metadata": {},
   "outputs": [],
   "source": [
    "labels = labels_nii.get_fdata().astype(np.int32)\n",
    "np.unique(labels), len(np.unique(labels))"
   ]
  },
  {
   "cell_type": "code",
   "execution_count": null,
   "id": "8c1bc62c-9785-4bb9-ae88-7a3d69e6bfe9",
   "metadata": {},
   "outputs": [],
   "source": [
    "labels_mapped = np.array(list(map(label_mapping.lab2idx, labels.flatten()))).reshape(labels.shape)"
   ]
  },
  {
   "cell_type": "code",
   "execution_count": null,
   "id": "344c9013-66cf-4764-9a74-8589484990b1",
   "metadata": {},
   "outputs": [],
   "source": [
    "np.unique(labels_mapped)"
   ]
  },
  {
   "cell_type": "markdown",
   "id": "e13b53a0-67b9-4bea-9e5d-b21fdeb58c77",
   "metadata": {},
   "source": [
    "## Create TFRecords"
   ]
  },
  {
   "cell_type": "code",
   "execution_count": null,
   "id": "50db0f50-6c62-424b-ad71-9afe43dcb33e",
   "metadata": {},
   "outputs": [],
   "source": [
    "compression_type = None\n",
    "file = \"./t1w_pdw_validation_pair.tfrecord\"\n",
    "\n",
    "with tf.io.TFRecordWriter(\n",
    "    str(file), options=tf.io.TFRecordOptions(compression_type=compression_type)\n",
    ") as writer:\n",
    "    # create tf example\n",
    "    features = {\n",
    "        \"image\": tf.train.Feature(\n",
    "            bytes_list=tf.train.BytesList(\n",
    "                value=[tf.io.serialize_tensor(image.astype(np.float32)).numpy()]\n",
    "            )\n",
    "        ),\n",
    "        \"labels\": tf.train.Feature(\n",
    "            bytes_list=tf.train.BytesList(\n",
    "                value=[tf.io.serialize_tensor(labels_mapped).numpy()]\n",
    "            )\n",
    "        ),\n",
    "    }  \n",
    "\n",
    "    example = tf.train.Example(features=tf.train.Features(feature=features))\n",
    "\n",
    "    # write to file\n",
    "    writer.write(example.SerializeToString())"
   ]
  },
  {
   "cell_type": "code",
   "execution_count": null,
   "id": "455d93aa-6a7c-442c-a9fb-ed0c1286a0a8",
   "metadata": {},
   "outputs": [],
   "source": [
    "# sanity check\n",
    "ds = read_tfrecords([file])\n",
    "img, lab = next(iter(ds))\n",
    "np.allclose(img.numpy(), image), np.allclose(lab.numpy(), labels_mapped)"
   ]
  },
  {
   "cell_type": "markdown",
   "id": "e36ba89b-375b-48a4-86a5-43902d8c93b1",
   "metadata": {},
   "source": [
    "Output file uploaded to https://datashare.mpcdf.mpg.de/f/348054516"
   ]
  },
  {
   "cell_type": "markdown",
   "id": "6d9411d3-cf06-4faf-8ba5-e0118ce184e2",
   "metadata": {
    "jp-MarkdownHeadingCollapsed": true
   },
   "source": [
    "## ... Playground"
   ]
  },
  {
   "cell_type": "code",
   "execution_count": null,
   "id": "24b3ee39-d1ec-4853-99f4-b599798cc2e0",
   "metadata": {},
   "outputs": [],
   "source": [
    "img_nii = nib.load(\"../01_from_datashare/T1w.nii\")"
   ]
  },
  {
   "cell_type": "code",
   "execution_count": null,
   "id": "28670710-3779-4d37-9fb7-297f14094033",
   "metadata": {},
   "outputs": [],
   "source": [
    "img = img_nii.get_fdata()"
   ]
  },
  {
   "cell_type": "code",
   "execution_count": null,
   "id": "6899720c-edf6-4b5a-911e-0b252ab54d67",
   "metadata": {},
   "outputs": [],
   "source": [
    "img.max()"
   ]
  },
  {
   "cell_type": "code",
   "execution_count": null,
   "id": "7fe3b6ef-55c9-4967-9887-0b89738aac7d",
   "metadata": {},
   "outputs": [],
   "source": [
    "plt.hist(crop(test_vol).flatten(), bins=100);"
   ]
  },
  {
   "cell_type": "code",
   "execution_count": null,
   "id": "870e2490-94cb-432d-a77e-b72de451c993",
   "metadata": {},
   "outputs": [],
   "source": [
    "test_vol = nib.load(\"T1w_rescaled_for_segmentation.nii\").get_fdata()"
   ]
  },
  {
   "cell_type": "code",
   "execution_count": null,
   "id": "e6977219-f0a5-47be-9661-45c807f52b71",
   "metadata": {},
   "outputs": [],
   "source": [
    "def crop(volume):\n",
    "    max_idxs = []\n",
    "    for dim in volume.shape:\n",
    "        max_idxs.append(dim - 256)\n",
    "        \n",
    "    slices = []\n",
    "    for max_idx in max_idxs:\n",
    "        rand_int = np.random.randint(0, max_idx)\n",
    "        slices.append(slice(rand_int, rand_int + 256))\n",
    "\n",
    "    return volume[slices[0], slices[1], slices[2]]"
   ]
  },
  {
   "cell_type": "code",
   "execution_count": null,
   "id": "971566f3-637a-4ca7-af6b-6ac1d5093374",
   "metadata": {},
   "outputs": [],
   "source": [
    "iterator = iter(train_ds)"
   ]
  },
  {
   "cell_type": "code",
   "execution_count": null,
   "id": "1a16bbbe-57ed-4e21-9762-10eafb0e0330",
   "metadata": {},
   "outputs": [],
   "source": [
    "train_img, label_img = next(iterator)"
   ]
  },
  {
   "cell_type": "code",
   "execution_count": null,
   "id": "314cd94b-324c-428e-b730-34e2aa5e38f2",
   "metadata": {},
   "outputs": [],
   "source": [
    "train_img.shape, train_img[..., 0].numpy().sum()"
   ]
  },
  {
   "cell_type": "code",
   "execution_count": null,
   "id": "6cea16b4-a57f-41c4-8ca2-011dde356757",
   "metadata": {},
   "outputs": [],
   "source": [
    "plt.hist(train_img.numpy()[..., 0].flatten(), bins=100);\n",
    "plt.hist(img[...,0].flatten(), bins=100, alpha=0.3);"
   ]
  },
  {
   "cell_type": "code",
   "execution_count": null,
   "id": "e75c0601-a861-4d19-8ffe-5753e3e46215",
   "metadata": {},
   "outputs": [],
   "source": [
    "from SynthSeg.brain_generator import read_tfrecords"
   ]
  },
  {
   "cell_type": "code",
   "execution_count": null,
   "id": "908f4dd5-1f62-40b3-8fef-0e26357bf8b1",
   "metadata": {},
   "outputs": [],
   "source": [
    "train_ds = read_tfrecords([\"./train_tfrecords/000000.tfrecord\"])"
   ]
  },
  {
   "cell_type": "code",
   "execution_count": null,
   "id": "3d3dc17a-638c-47d7-998c-91d09eebadf8",
   "metadata": {},
   "outputs": [],
   "source": [
    "plt.imshow(seg[100,...], alpha=0.5)\n",
    "plt.imshow(img_rs[100, ...], alpha=0.5)"
   ]
  },
  {
   "cell_type": "code",
   "execution_count": null,
   "id": "c620a592-2a81-43f7-b8b0-084e62e8cb55",
   "metadata": {},
   "outputs": [],
   "source": [
    "img_rs_nii = nib.load(\"../t1w_pdw_config/T1w_rescaled_for_segmentation.nii\")\n",
    "img_rs = img_rs_nii.get_fdata()\n",
    "img_rs.max()"
   ]
  },
  {
   "cell_type": "markdown",
   "id": "0086a295-fa3a-4bba-ba8c-249b5a867d66",
   "metadata": {},
   "source": [
    "Run segmentation as described in `approach.ipynb`"
   ]
  },
  {
   "cell_type": "code",
   "execution_count": null,
   "id": "60586187-f493-48d3-b51b-ecfbafd81e68",
   "metadata": {},
   "outputs": [],
   "source": [
    "seg_nii = nib.load(\"T1w_segmentations2.nii\")\n",
    "seg = seg_nii.get_fdata()"
   ]
  },
  {
   "cell_type": "code",
   "execution_count": null,
   "id": "0aaa2e51-7e2f-417f-9be2-3113a0ba616f",
   "metadata": {},
   "outputs": [],
   "source": [
    "seg_nii.header.get_data_shape()"
   ]
  },
  {
   "cell_type": "code",
   "execution_count": null,
   "id": "7c7a8c18-43b4-4a6a-8636-15cc04130b8e",
   "metadata": {},
   "outputs": [],
   "source": [
    "labels = np.unique(seg)\n",
    "labels, len(labels)"
   ]
  },
  {
   "cell_type": "code",
   "execution_count": null,
   "id": "1c842a20-a414-442c-8999-4ee5beed3870",
   "metadata": {},
   "outputs": [],
   "source": [
    "img_rs.shape, seg.shape"
   ]
  },
  {
   "cell_type": "code",
   "execution_count": null,
   "id": "4d77ea3f-fee1-4103-a2c1-4f2b43a6caf4",
   "metadata": {},
   "outputs": [],
   "source": [
    "from SynthSeg.analysis.contrast_analysis import clip_and_rescale_nifti\n",
    "\n",
    "root_dir = \"/home/david/mpcdf/cbs/segmentation/SynthSeg\"\n",
    "input_file = f\"{root_dir}/data/cbs/01_from_datashare/T1w.nii\"\n",
    "output_file = f\"{root_dir}/data/cbs/t1w_pdw_config/T1w_rescaled_for_segmentation.nii\"\n",
    "\n",
    "clip_and_rescale_nifti(\n",
    "    nifti_file=input_file,\n",
    "    out_file=output_file,\n",
    "    min_clip=0.0,\n",
    "    max_clip=2000,\n",
    "    min_out=0.0,\n",
    "    max_out=1.0\n",
    ")"
   ]
  }
 ],
 "metadata": {
  "kernelspec": {
   "display_name": "Python 3 (ipykernel)",
   "language": "python",
   "name": "python3"
  },
  "language_info": {
   "codemirror_mode": {
    "name": "ipython",
    "version": 3
   },
   "file_extension": ".py",
   "mimetype": "text/x-python",
   "name": "python",
   "nbconvert_exporter": "python",
   "pygments_lexer": "ipython3",
   "version": "3.9.18"
  }
 },
 "nbformat": 4,
 "nbformat_minor": 5
}
