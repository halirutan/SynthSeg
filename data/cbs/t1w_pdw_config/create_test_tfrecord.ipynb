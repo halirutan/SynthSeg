{
 "cells": [
  {
   "cell_type": "code",
   "execution_count": null,
   "id": "c1136406-ff8d-41e1-8572-4f366e3805d9",
   "metadata": {},
   "outputs": [],
   "source": [
    "import numpy as np\n",
    "import nibabel as nib\n",
    "import matplotlib.pyplot as plt\n",
    "import yaml\n",
    "from pathlib import Path\n",
    "from ext.lab2im import utils\n",
    "from ext.lab2im.edit_volumes import align_volume_to_ref\n",
    "from SynthSeg.brain_generator import read_tfrecords\n",
    "import tensorflow as tf"
   ]
  },
  {
   "cell_type": "markdown",
   "id": "6007adee-8b2d-4b07-b77a-64381276d017",
   "metadata": {},
   "source": [
    "## Peek into data\n",
    "\n",
    "Data downloaded from https://datashare.mpcdf.mpg.de/f/348054516"
   ]
  },
  {
   "cell_type": "code",
   "execution_count": null,
   "id": "f4d69cd3-8cdf-4fb4-9944-cd4489a9e3be",
   "metadata": {},
   "outputs": [],
   "source": [
    "image_nii = nib.load(\"t1w_pdw_validation_pair/t1_pdw_scaled_256.nii\")"
   ]
  },
  {
   "cell_type": "code",
   "execution_count": null,
   "id": "9677831e-d4d9-435c-882d-cbda46de3151",
   "metadata": {},
   "outputs": [],
   "source": [
    "image = image_nii.get_fdata()\n",
    "image.shape"
   ]
  },
  {
   "cell_type": "code",
   "execution_count": null,
   "id": "971ff5e0-9d40-454c-8d63-fe11eb865151",
   "metadata": {},
   "outputs": [],
   "source": [
    "labels = nib.load(\"t1w_pdw_validation_pair/label_256.nii\").get_fdata()"
   ]
  },
  {
   "cell_type": "code",
   "execution_count": null,
   "id": "56974e5c-0f5c-46b2-be1a-420b39f9c934",
   "metadata": {},
   "outputs": [],
   "source": [
    "plt.imshow(image[100,..., 0], alpha=1.0)\n",
    "plt.imshow(labels[100, ...], alpha=0.5)"
   ]
  },
  {
   "cell_type": "markdown",
   "id": "f4f526d8-d424-4bf5-a585-1fb9348e4d69",
   "metadata": {},
   "source": [
    "## Align CBS volume to train volumes\n",
    "\n",
    "Train images have a reference aff matrix of np.eye(4) ..."
   ]
  },
  {
   "cell_type": "code",
   "execution_count": null,
   "id": "e1966c5f-a0fb-4b38-a5b8-f68c90dfb86f",
   "metadata": {},
   "outputs": [],
   "source": [
    "image, _, aff, n_dims, n_channels, h, im_res = utils.get_volume_info(\"./t1w_pdw_validation_pair/t1_pdw_scaled_256.nii\", return_volume=True)"
   ]
  },
  {
   "cell_type": "code",
   "execution_count": null,
   "id": "cf00733a-1a9a-497f-bd89-f562099c9e41",
   "metadata": {},
   "outputs": [],
   "source": [
    "plt.imshow(image[100,:,:, 0])"
   ]
  },
  {
   "cell_type": "code",
   "execution_count": null,
   "id": "8bc6f219-7452-4e4b-8598-39af83002d18",
   "metadata": {},
   "outputs": [],
   "source": [
    "image_aligned = align_volume_to_ref(image, aff, aff_ref=np.eye(4), n_dims=3)"
   ]
  },
  {
   "cell_type": "code",
   "execution_count": null,
   "id": "8e733a55-d403-4e49-a7eb-dffc276d9de0",
   "metadata": {},
   "outputs": [],
   "source": [
    "labels_aligned = align_volume_to_ref(labels, aff, aff_ref=np.eye(4), n_dims=3)"
   ]
  },
  {
   "cell_type": "code",
   "execution_count": null,
   "id": "d46af5d9-c0c5-4f2a-a528-af49c7f5ddca",
   "metadata": {},
   "outputs": [],
   "source": [
    "plt.imshow(image_aligned[150,:,:, 1], alpha=1.0)\n",
    "plt.imshow(labels_aligned[150,:,:], alpha=0.2)\n",
    "plt.colorbar()"
   ]
  },
  {
   "cell_type": "markdown",
   "id": "3d4caf67-8b82-490d-8ea2-b19acec4aa5b",
   "metadata": {},
   "source": [
    "## Map labels"
   ]
  },
  {
   "cell_type": "code",
   "execution_count": null,
   "id": "b237ef54-fd70-43b4-b41a-ee554ac74cbf",
   "metadata": {},
   "outputs": [],
   "source": [
    "class LabelMapping:\n",
    "    def __init__(self, cfg_path):\n",
    "        cfg_path = Path(cfg_path)\n",
    "        with cfg_path.open() as file:\n",
    "            cfg = yaml.safe_load(file)\n",
    "        output_labels = cfg[\"output_labels\"]\n",
    "        self._mapping = utils.get_mapping_lut(np.unique(output_labels))\n",
    "\n",
    "    def lab2idx(self, label: int) -> int:\n",
    "        try:\n",
    "            return self._mapping[label]\n",
    "        except IndexError:\n",
    "            return 0\n",
    "\n",
    "    def idx2lab(self, idx: int):\n",
    "        return np.nonzero(self._mapping == idx)[0][0]"
   ]
  },
  {
   "cell_type": "code",
   "execution_count": null,
   "id": "b7d3dc32-0b3a-4132-b1f5-1497d5531001",
   "metadata": {},
   "outputs": [],
   "source": [
    "label_mapping = LabelMapping(\"./generator.yml\")"
   ]
  },
  {
   "cell_type": "code",
   "execution_count": null,
   "id": "425e8aba-3fb7-4742-9632-a0c00f847cce",
   "metadata": {},
   "outputs": [],
   "source": [
    "labels_aligned = labels_aligned.astype(np.int32)\n",
    "np.unique(labels_aligned), len(np.unique(labels_aligned))"
   ]
  },
  {
   "cell_type": "code",
   "execution_count": null,
   "id": "8c1bc62c-9785-4bb9-ae88-7a3d69e6bfe9",
   "metadata": {},
   "outputs": [],
   "source": [
    "labels_mapped = np.array(list(map(label_mapping.lab2idx, labels_aligned.flatten()))).reshape(labels_aligned.shape)"
   ]
  },
  {
   "cell_type": "code",
   "execution_count": null,
   "id": "344c9013-66cf-4764-9a74-8589484990b1",
   "metadata": {},
   "outputs": [],
   "source": [
    "np.unique(labels_mapped)"
   ]
  },
  {
   "cell_type": "markdown",
   "id": "e13b53a0-67b9-4bea-9e5d-b21fdeb58c77",
   "metadata": {},
   "source": [
    "## Create TFRecords"
   ]
  },
  {
   "cell_type": "code",
   "execution_count": null,
   "id": "50db0f50-6c62-424b-ad71-9afe43dcb33e",
   "metadata": {},
   "outputs": [],
   "source": [
    "compression_type = None\n",
    "file = \"./t1w_pdw_validation_pair.tfrecord\"\n",
    "\n",
    "with tf.io.TFRecordWriter(\n",
    "    str(file), options=tf.io.TFRecordOptions(compression_type=compression_type)\n",
    ") as writer:\n",
    "    # create tf example\n",
    "    features = {\n",
    "        \"image\": tf.train.Feature(\n",
    "            bytes_list=tf.train.BytesList(\n",
    "                value=[tf.io.serialize_tensor(image_aligned.astype(np.float32)).numpy()]\n",
    "            )\n",
    "        ),\n",
    "        \"labels\": tf.train.Feature(\n",
    "            bytes_list=tf.train.BytesList(\n",
    "                value=[tf.io.serialize_tensor(labels_mapped).numpy()]\n",
    "            )\n",
    "        ),\n",
    "    }  \n",
    "\n",
    "    example = tf.train.Example(features=tf.train.Features(feature=features))\n",
    "\n",
    "    # write to file\n",
    "    writer.write(example.SerializeToString())"
   ]
  },
  {
   "cell_type": "code",
   "execution_count": null,
   "id": "455d93aa-6a7c-442c-a9fb-ed0c1286a0a8",
   "metadata": {},
   "outputs": [],
   "source": [
    "# sanity check\n",
    "file = \"./t1w_pdw_validation_pair.tfrecord\"\n",
    "ds = read_tfrecords([file])\n",
    "img, lab = next(iter(ds))\n",
    "np.allclose(img.numpy(), image_aligned), np.allclose(lab.numpy(), labels_mapped)"
   ]
  },
  {
   "cell_type": "markdown",
   "id": "e36ba89b-375b-48a4-86a5-43902d8c93b1",
   "metadata": {},
   "source": [
    "Output file uploaded to https://datashare.mpcdf.mpg.de/f/348054516"
   ]
  },
  {
   "cell_type": "markdown",
   "id": "0cad4ab6-6671-486f-954d-bbcc9b9328c0",
   "metadata": {},
   "source": [
    "# Alignment: tests"
   ]
  },
  {
   "cell_type": "markdown",
   "id": "7c044cfd-fdbf-460e-ab70-250735c2b661",
   "metadata": {},
   "source": [
    "## CBS full scale image"
   ]
  },
  {
   "cell_type": "code",
   "execution_count": null,
   "id": "5e1731ec-a1f7-4dee-bda0-12a8475e053b",
   "metadata": {},
   "outputs": [],
   "source": [
    "image, _, _, _, _, _, _ = utils.get_volume_info(\"../01_from_datashare/T1w_rescaled_for_segmentation.nii\", return_volume=True)"
   ]
  },
  {
   "cell_type": "code",
   "execution_count": null,
   "id": "cd7cf3e1-8ba6-4841-8db8-08f0a8cc2a04",
   "metadata": {},
   "outputs": [],
   "source": [
    "image.shape"
   ]
  },
  {
   "cell_type": "code",
   "execution_count": null,
   "id": "82f9f494-e31c-4b6a-8c9a-822c1ef82e24",
   "metadata": {},
   "outputs": [],
   "source": [
    "plt.imshow(image[:, :, 150])"
   ]
  },
  {
   "cell_type": "markdown",
   "id": "1a28e63b-d84c-40b0-bb06-ae054084d086",
   "metadata": {},
   "source": [
    "## CBS half scale image"
   ]
  },
  {
   "cell_type": "code",
   "execution_count": null,
   "id": "e3488d1c-c2f7-4301-b159-13868957b2d5",
   "metadata": {},
   "outputs": [],
   "source": [
    "image_hs, _, aff, n_dims, n_channels, h, im_res = utils.get_volume_info(\"./t1w_pdw_validation_pair/t1_pdw_scaled_256.nii\", return_volume=True)"
   ]
  },
  {
   "cell_type": "code",
   "execution_count": null,
   "id": "81d38df0-42ee-429d-8353-b47ab094e700",
   "metadata": {},
   "outputs": [],
   "source": [
    "plt.imshow(image_hs[:,:,100,0])"
   ]
  },
  {
   "cell_type": "markdown",
   "id": "645c2d64-bf35-4255-9500-ea12e9024b39",
   "metadata": {},
   "source": [
    "**No change in orientation**"
   ]
  },
  {
   "cell_type": "markdown",
   "id": "1e3d2e3c-4a8c-4366-b9e6-3c7d8b88eb8f",
   "metadata": {},
   "source": [
    "## Train full scale image"
   ]
  },
  {
   "cell_type": "code",
   "execution_count": null,
   "id": "c859e1dd-cc9d-4890-8029-2f76c9a01833",
   "metadata": {},
   "outputs": [],
   "source": [
    "train_ds = read_tfrecords([\"train_tfrecords/000000_512.tfrecord\"])\n",
    "train_it = iter(train_ds)"
   ]
  },
  {
   "cell_type": "code",
   "execution_count": null,
   "id": "4461c34e-63ca-4456-8063-6b47fe6043bf",
   "metadata": {},
   "outputs": [],
   "source": [
    "train_img, _ = next(train_it)"
   ]
  },
  {
   "cell_type": "code",
   "execution_count": null,
   "id": "07c5de11-e702-4ec2-8a48-d368c3aa8553",
   "metadata": {},
   "outputs": [],
   "source": [
    "image_aligned = align_volume_to_ref(image, aff, aff_ref=np.eye(4), n_dims=3)"
   ]
  },
  {
   "cell_type": "code",
   "execution_count": null,
   "id": "b24bb6a8-abff-4db4-8797-58c8d2803cbb",
   "metadata": {},
   "outputs": [],
   "source": [
    "image_aligned.shape"
   ]
  },
  {
   "cell_type": "code",
   "execution_count": null,
   "id": "0bfa9c33-a237-4ba3-8102-4ee8f3357321",
   "metadata": {},
   "outputs": [],
   "source": [
    "plt.imshow(image_aligned[150,:,:], alpha=0.5)\n",
    "plt.imshow(train_img[200, :, :, 0], alpha=0.5)"
   ]
  },
  {
   "cell_type": "code",
   "execution_count": null,
   "id": "6cb78e14-7cd6-4517-ad7a-a305aba6e23c",
   "metadata": {},
   "outputs": [],
   "source": [
    "plt.imshow(image_aligned[:, 200,:], alpha=0.5)\n",
    "plt.imshow(train_img[:, 250, :, 0], alpha=0.5)"
   ]
  },
  {
   "cell_type": "code",
   "execution_count": null,
   "id": "9d7bfdcb-9d69-4666-ab8b-1f87ca5dbeb7",
   "metadata": {},
   "outputs": [],
   "source": [
    "plt.imshow(image_aligned[:, :, 140], alpha=0.5)\n",
    "plt.imshow(train_img[:, :, 120, 0], alpha=0.5)"
   ]
  },
  {
   "cell_type": "markdown",
   "id": "407414cc-6a34-4669-8e01-a0ea9ce4bb48",
   "metadata": {},
   "source": [
    "**Seems to be aligned!**"
   ]
  },
  {
   "cell_type": "markdown",
   "id": "e1210691-ec52-4ddd-991b-57ec2c748bbc",
   "metadata": {},
   "source": [
    "## Align labels"
   ]
  },
  {
   "cell_type": "code",
   "execution_count": null,
   "id": "8046887d-b17c-4b61-9031-00589272a8d9",
   "metadata": {},
   "outputs": [],
   "source": [
    "image_hs, _, aff, n_dims, n_channels, h, im_res = utils.get_volume_info(\"./t1w_pdw_validation_pair/t1_pdw_scaled_256.nii\", return_volume=True)"
   ]
  },
  {
   "cell_type": "code",
   "execution_count": null,
   "id": "822ea700-452a-4ab9-8360-e5ff6889bdf5",
   "metadata": {},
   "outputs": [],
   "source": [
    "labels, _, _, _, _, _, _ = utils.get_volume_info(\"./t1w_pdw_validation_pair/label_256.nii\", return_volume=True)"
   ]
  },
  {
   "cell_type": "code",
   "execution_count": null,
   "id": "581f7379-5ecc-451c-a9ad-b829a187766e",
   "metadata": {},
   "outputs": [],
   "source": [
    "image_hs_aligned = align_volume_to_ref(image_hs, aff, aff_ref=np.eye(4), n_dims=3)\n",
    "labels_aligned = align_volume_to_ref(labels, aff, aff_ref=np.eye(4), n_dims=3)"
   ]
  },
  {
   "cell_type": "code",
   "execution_count": null,
   "id": "5b96613e-0219-490f-858c-498354305121",
   "metadata": {},
   "outputs": [],
   "source": [
    "plt.imshow(image_hs_aligned[150,:,:, 0], alpha=0.9)\n",
    "plt.imshow(labels_aligned[150,:,:], alpha=0.2)\n",
    "plt.colorbar()"
   ]
  },
  {
   "cell_type": "markdown",
   "id": "6d9411d3-cf06-4faf-8ba5-e0118ce184e2",
   "metadata": {},
   "source": [
    "# ... Playground"
   ]
  },
  {
   "cell_type": "code",
   "execution_count": null,
   "id": "a2e70d78-4850-4a12-84af-f6d76a3e1e82",
   "metadata": {},
   "outputs": [],
   "source": [
    "valid_nii = nib.load(\"./t1w_pdw_validation_pair/t1_pdw_scaled_256.nii\")\n",
    "valid_img = valid_nii.get_fdata()\n",
    "valid_img.shape"
   ]
  },
  {
   "cell_type": "code",
   "execution_count": null,
   "id": "e40abf9e-61e3-4173-858d-24b6a19fcdf8",
   "metadata": {},
   "outputs": [],
   "source": [
    "plt.imshow(valid_img[:,:,1, 0])"
   ]
  },
  {
   "cell_type": "code",
   "execution_count": null,
   "id": "69995ee7-2b77-498f-8015-0fcbbf9aecd0",
   "metadata": {},
   "outputs": [],
   "source": [
    "from ext.lab2im.utils import get_volume_info\n",
    "from ext.lab2im.edit_volumes import align_volume_to_ref"
   ]
  },
  {
   "cell_type": "code",
   "execution_count": null,
   "id": "d06db9a1-7e99-4cfa-9da3-85525c985638",
   "metadata": {},
   "outputs": [],
   "source": [
    "im, _, aff, n_dims, n_channels, h, im_res = get_volume_info(\"./t1w_pdw_validation_pair/t1_pdw_scaled_256.nii\", return_volume=True)\n",
    "#im, _, aff, n_dims, n_channels, h, im_res = get_volume_info(\"./T1w_rescaled_for_segmentation.nii\", return_volume=True)"
   ]
  },
  {
   "cell_type": "code",
   "execution_count": null,
   "id": "cdd749b1-4f6c-4bdc-9d13-0db2c2b28cec",
   "metadata": {},
   "outputs": [],
   "source": [
    "aff"
   ]
  },
  {
   "cell_type": "code",
   "execution_count": null,
   "id": "86aef428-c8ee-49dc-8bb6-db1e341a3264",
   "metadata": {},
   "outputs": [],
   "source": [
    "plt.imshow(im[:, 220, :, 0])"
   ]
  },
  {
   "cell_type": "code",
   "execution_count": null,
   "id": "cc5676b2-ecf6-4f42-9dfc-48e25ad21411",
   "metadata": {},
   "outputs": [],
   "source": [
    "im2 = align_volume_to_ref(im, aff, aff_ref=np.eye(4), n_dims=3, return_copy=False)"
   ]
  },
  {
   "cell_type": "code",
   "execution_count": null,
   "id": "46ec74bf-20af-4e9b-abf0-664738335675",
   "metadata": {},
   "outputs": [],
   "source": [
    "plt.imshow(im2[:,:,20,0])"
   ]
  },
  {
   "cell_type": "code",
   "execution_count": null,
   "id": "76f8afc9-c165-4baf-b171-20667ebe2a2d",
   "metadata": {},
   "outputs": [],
   "source": [
    "train_ds = read_tfrecords([\"train_tfrecords/000000_512.tfrecord\"])\n",
    "train_it = iter(train_ds)"
   ]
  },
  {
   "cell_type": "code",
   "execution_count": null,
   "id": "537e5e91-a156-412e-92e5-fe50823faa55",
   "metadata": {},
   "outputs": [],
   "source": [
    "train_img, _ = next(train_it)"
   ]
  },
  {
   "cell_type": "code",
   "execution_count": null,
   "id": "e2f8bfb3-6e16-4502-8145-684918f68238",
   "metadata": {},
   "outputs": [],
   "source": [
    "plt.imshow(train_img[:, :, 150, 0])"
   ]
  },
  {
   "cell_type": "code",
   "execution_count": null,
   "id": "c13d8906-22fc-4576-9c06-b54e0f3b93ea",
   "metadata": {},
   "outputs": [],
   "source": [
    "from SynthSeg.brain_generator import BrainGenerator\n",
    "BrainGenerator.tfrecord_to_brain?"
   ]
  },
  {
   "cell_type": "code",
   "execution_count": null,
   "id": "24b3ee39-d1ec-4853-99f4-b599798cc2e0",
   "metadata": {},
   "outputs": [],
   "source": [
    "img_nii = nib.load(\"../01_from_datashare/T1w.nii\")\n",
    "img = img_nii.get_fdata()"
   ]
  },
  {
   "cell_type": "code",
   "execution_count": null,
   "id": "28670710-3779-4d37-9fb7-297f14094033",
   "metadata": {},
   "outputs": [],
   "source": [
    "plt.imshow(img[100,...])"
   ]
  },
  {
   "cell_type": "code",
   "execution_count": null,
   "id": "6899720c-edf6-4b5a-911e-0b252ab54d67",
   "metadata": {},
   "outputs": [],
   "source": [
    "img.max()"
   ]
  },
  {
   "cell_type": "code",
   "execution_count": null,
   "id": "7fe3b6ef-55c9-4967-9887-0b89738aac7d",
   "metadata": {},
   "outputs": [],
   "source": [
    "plt.hist(crop(test_vol).flatten(), bins=100);"
   ]
  },
  {
   "cell_type": "code",
   "execution_count": null,
   "id": "870e2490-94cb-432d-a77e-b72de451c993",
   "metadata": {},
   "outputs": [],
   "source": [
    "test_vol = nib.load(\"../01_from_datashare/T1w_rescaled_for_segmentation.nii\").get_fdata()\n",
    "test_vol.shape"
   ]
  },
  {
   "cell_type": "code",
   "execution_count": null,
   "id": "f49a66f0-2932-4a4c-915b-a710652edccc",
   "metadata": {},
   "outputs": [],
   "source": [
    "plt.imshow(test_vol[400, :, :])"
   ]
  },
  {
   "cell_type": "code",
   "execution_count": null,
   "id": "e6977219-f0a5-47be-9661-45c807f52b71",
   "metadata": {},
   "outputs": [],
   "source": [
    "def crop(volume):\n",
    "    max_idxs = []\n",
    "    for dim in volume.shape:\n",
    "        max_idxs.append(dim - 256)\n",
    "        \n",
    "    slices = []\n",
    "    for max_idx in max_idxs:\n",
    "        rand_int = np.random.randint(0, max_idx)\n",
    "        slices.append(slice(rand_int, rand_int + 256))\n",
    "\n",
    "    return volume[slices[0], slices[1], slices[2]]"
   ]
  },
  {
   "cell_type": "code",
   "execution_count": null,
   "id": "971566f3-637a-4ca7-af6b-6ac1d5093374",
   "metadata": {},
   "outputs": [],
   "source": [
    "iterator = iter(train_ds)"
   ]
  },
  {
   "cell_type": "code",
   "execution_count": null,
   "id": "1a16bbbe-57ed-4e21-9762-10eafb0e0330",
   "metadata": {},
   "outputs": [],
   "source": [
    "train_img, label_img = next(iterator)"
   ]
  },
  {
   "cell_type": "code",
   "execution_count": null,
   "id": "314cd94b-324c-428e-b730-34e2aa5e38f2",
   "metadata": {},
   "outputs": [],
   "source": [
    "train_img.shape, train_img[..., 0].numpy().sum()"
   ]
  },
  {
   "cell_type": "code",
   "execution_count": null,
   "id": "6cea16b4-a57f-41c4-8ca2-011dde356757",
   "metadata": {},
   "outputs": [],
   "source": [
    "plt.hist(train_img.numpy()[..., 0].flatten(), bins=100);\n",
    "plt.hist(img[...,0].flatten(), bins=100, alpha=0.3);"
   ]
  },
  {
   "cell_type": "code",
   "execution_count": null,
   "id": "e75c0601-a861-4d19-8ffe-5753e3e46215",
   "metadata": {},
   "outputs": [],
   "source": [
    "from SynthSeg.brain_generator import read_tfrecords"
   ]
  },
  {
   "cell_type": "code",
   "execution_count": null,
   "id": "908f4dd5-1f62-40b3-8fef-0e26357bf8b1",
   "metadata": {},
   "outputs": [],
   "source": [
    "train_ds = read_tfrecords([\"./train_tfrecords/000000.tfrecord\"])"
   ]
  },
  {
   "cell_type": "code",
   "execution_count": null,
   "id": "3d3dc17a-638c-47d7-998c-91d09eebadf8",
   "metadata": {},
   "outputs": [],
   "source": [
    "plt.imshow(seg[100,...], alpha=0.5)\n",
    "plt.imshow(img_rs[100, ...], alpha=0.5)"
   ]
  },
  {
   "cell_type": "code",
   "execution_count": null,
   "id": "c620a592-2a81-43f7-b8b0-084e62e8cb55",
   "metadata": {},
   "outputs": [],
   "source": [
    "img_rs_nii = nib.load(\"../01_from_datashare/T1w_rescaled_for_segmentation.nii\")\n",
    "img_rs = img_rs_nii.get_fdata()\n",
    "img_rs.max()"
   ]
  },
  {
   "cell_type": "markdown",
   "id": "0086a295-fa3a-4bba-ba8c-249b5a867d66",
   "metadata": {},
   "source": [
    "Run segmentation as described in `approach.ipynb`"
   ]
  },
  {
   "cell_type": "code",
   "execution_count": null,
   "id": "60586187-f493-48d3-b51b-ecfbafd81e68",
   "metadata": {},
   "outputs": [],
   "source": [
    "seg_nii = nib.load(\"T1w_segmentations2.nii\")\n",
    "seg = seg_nii.get_fdata()"
   ]
  },
  {
   "cell_type": "code",
   "execution_count": null,
   "id": "0aaa2e51-7e2f-417f-9be2-3113a0ba616f",
   "metadata": {},
   "outputs": [],
   "source": [
    "seg_nii.header.get_data_shape()"
   ]
  },
  {
   "cell_type": "code",
   "execution_count": null,
   "id": "7c7a8c18-43b4-4a6a-8636-15cc04130b8e",
   "metadata": {},
   "outputs": [],
   "source": [
    "labels = np.unique(seg)\n",
    "labels, len(labels)"
   ]
  },
  {
   "cell_type": "code",
   "execution_count": null,
   "id": "1c842a20-a414-442c-8999-4ee5beed3870",
   "metadata": {},
   "outputs": [],
   "source": [
    "img_rs.shape, seg.shape"
   ]
  },
  {
   "cell_type": "code",
   "execution_count": null,
   "id": "4d77ea3f-fee1-4103-a2c1-4f2b43a6caf4",
   "metadata": {},
   "outputs": [],
   "source": [
    "from SynthSeg.analysis.contrast_analysis import clip_and_rescale_nifti\n",
    "\n",
    "root_dir = \"/home/david/mpcdf/cbs/segmentation/SynthSeg\"\n",
    "input_file = f\"{root_dir}/data/cbs/01_from_datashare/T1w.nii\"\n",
    "output_file = f\"{root_dir}/data/cbs/t1w_pdw_config/T1w_rescaled_for_segmentation.nii\"\n",
    "\n",
    "clip_and_rescale_nifti(\n",
    "    nifti_file=input_file,\n",
    "    out_file=output_file,\n",
    "    min_clip=0.0,\n",
    "    max_clip=2000,\n",
    "    min_out=0.0,\n",
    "    max_out=1.0\n",
    ")"
   ]
  }
 ],
 "metadata": {
  "kernelspec": {
   "display_name": "Python 3 (ipykernel)",
   "language": "python",
   "name": "python3"
  },
  "language_info": {
   "codemirror_mode": {
    "name": "ipython",
    "version": 3
   },
   "file_extension": ".py",
   "mimetype": "text/x-python",
   "name": "python",
   "nbconvert_exporter": "python",
   "pygments_lexer": "ipython3",
   "version": "3.9.18"
  }
 },
 "nbformat": 4,
 "nbformat_minor": 5
}
